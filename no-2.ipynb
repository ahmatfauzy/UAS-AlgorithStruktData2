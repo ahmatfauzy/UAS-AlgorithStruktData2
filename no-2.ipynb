{
  "nbformat": 4,
  "nbformat_minor": 0,
  "metadata": {
    "colab": {
      "provenance": []
    },
    "kernelspec": {
      "name": "python3",
      "display_name": "Python 3"
    },
    "language_info": {
      "name": "python"
    }
  },
  "cells": [
    {
      "cell_type": "code",
      "execution_count": 1,
      "metadata": {
        "colab": {
          "base_uri": "https://localhost:8080/"
        },
        "id": "jFY6CwElfIg1",
        "outputId": "ee0f77fc-392e-4b8f-c96e-5279b25fe9e6"
      },
      "outputs": [
        {
          "output_type": "stream",
          "name": "stdout",
          "text": [
            "[2, 5, 7]\n"
          ]
        }
      ],
      "source": [
        "#NOMOR 2\n",
        "\n",
        "def BubbleSort(blist):\n",
        "  for passnum in range(len(blist)-1,0,-1):\n",
        "    for i in range(passnum):\n",
        "      if blist[i]>blist[i+1]:\n",
        "        temp = blist[i]\n",
        "        blist[i] = blist[i+1]\n",
        "        blist[i+1] = temp\n",
        "\n",
        "blist = [5,2,7]\n",
        "BubbleSort(blist)\n",
        "print(blist)"
      ]
    },
    {
      "cell_type": "code",
      "source": [],
      "metadata": {
        "id": "aBfO4Y4C8go4"
      },
      "execution_count": null,
      "outputs": []
    }
  ]
}