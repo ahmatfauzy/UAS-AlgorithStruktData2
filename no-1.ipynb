{
  "nbformat": 4,
  "nbformat_minor": 0,
  "metadata": {
    "colab": {
      "provenance": []
    },
    "kernelspec": {
      "name": "python3",
      "display_name": "Python 3"
    },
    "language_info": {
      "name": "python"
    }
  },
  "cells": [
    {
      "cell_type": "code",
      "execution_count": null,
      "metadata": {
        "colab": {
          "base_uri": "https://localhost:8080/"
        },
        "id": "jFY6CwElfIg1",
        "outputId": "6d9c9b26-e625-41ff-ad81-52d599db660a"
      },
      "outputs": [
        {
          "output_type": "stream",
          "name": "stdout",
          "text": [
            "Cari nilai 3 dalam list:  True\n"
          ]
        }
      ],
      "source": [
        "#NOMOR 1\n",
        "\n",
        "def sequentialSearch(alist, item):\n",
        "    pos = 0\n",
        "    found = False\n",
        "    while pos < len(alist) and not found:\n",
        "        if alist[pos] == item:\n",
        "            found = True\n",
        "        else:\n",
        "            pos = pos + 1\n",
        "    return found\n",
        "\n",
        "alist = [2,3,4]\n",
        "print(\"Cari nilai 3 dalam list: \", sequentialSearch(alist, 3))"
      ]
    }
  ]
}